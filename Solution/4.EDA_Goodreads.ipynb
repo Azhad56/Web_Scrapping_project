{
 "cells": [
  {
   "cell_type": "markdown",
   "metadata": {},
   "source": [
    "# Analysing Goodreads Dataframe"
   ]
  },
  {
   "cell_type": "code",
   "execution_count": 1,
   "metadata": {},
   "outputs": [],
   "source": [
    "import pandas as pd"
   ]
  },
  {
   "cell_type": "code",
   "execution_count": 2,
   "metadata": {},
   "outputs": [],
   "source": [
    "#load the dataset which we have scrapped\n",
    "total_quotes = pd.read_csv('../output/total_quotes')"
   ]
  },
  {
   "cell_type": "code",
   "execution_count": 3,
   "metadata": {},
   "outputs": [
    {
     "data": {
      "text/html": [
       "<div>\n",
       "<style scoped>\n",
       "    .dataframe tbody tr th:only-of-type {\n",
       "        vertical-align: middle;\n",
       "    }\n",
       "\n",
       "    .dataframe tbody tr th {\n",
       "        vertical-align: top;\n",
       "    }\n",
       "\n",
       "    .dataframe thead th {\n",
       "        text-align: right;\n",
       "    }\n",
       "</style>\n",
       "<table border=\"1\" class=\"dataframe\">\n",
       "  <thead>\n",
       "    <tr style=\"text-align: right;\">\n",
       "      <th></th>\n",
       "      <th>quote</th>\n",
       "      <th>author</th>\n",
       "      <th>tags</th>\n",
       "    </tr>\n",
       "  </thead>\n",
       "  <tbody>\n",
       "    <tr>\n",
       "      <th>0</th>\n",
       "      <td>“I'm selfish, impatient and a little insecure....</td>\n",
       "      <td>Marilyn Monroe</td>\n",
       "      <td>['attributed-no-source', 'best', 'life', 'love...</td>\n",
       "    </tr>\n",
       "    <tr>\n",
       "      <th>1</th>\n",
       "      <td>“You've gotta dance like there's nobody watchi...</td>\n",
       "      <td>William W. Purkey</td>\n",
       "      <td>['dance', 'heaven', 'hurt', 'inspirational', '...</td>\n",
       "    </tr>\n",
       "    <tr>\n",
       "      <th>2</th>\n",
       "      <td>“You know you're in love when you can't fall a...</td>\n",
       "      <td>Dr. Seuss</td>\n",
       "      <td>['attributed-no-source', 'dreams', 'love', 're...</td>\n",
       "    </tr>\n",
       "    <tr>\n",
       "      <th>3</th>\n",
       "      <td>“A friend is someone who knows all about you a...</td>\n",
       "      <td>Elbert Hubbard</td>\n",
       "      <td>['friend', 'friendship', 'knowledge', 'love']</td>\n",
       "    </tr>\n",
       "    <tr>\n",
       "      <th>4</th>\n",
       "      <td>“Darkness cannot drive out darkness: only ligh...</td>\n",
       "      <td>Martin Luther King Jr.,</td>\n",
       "      <td>['darkness', 'drive-out', 'hate', 'inspiration...</td>\n",
       "    </tr>\n",
       "    <tr>\n",
       "      <th>...</th>\n",
       "      <td>...</td>\n",
       "      <td>...</td>\n",
       "      <td>...</td>\n",
       "    </tr>\n",
       "    <tr>\n",
       "      <th>1795</th>\n",
       "      <td>“Suppose neutral angels were able to talk, Yah...</td>\n",
       "      <td>Tom Robbins</td>\n",
       "      <td>['god', 'satan']</td>\n",
       "    </tr>\n",
       "    <tr>\n",
       "      <th>1796</th>\n",
       "      <td>“Once upon a time there was a young prince who...</td>\n",
       "      <td>John Fowles</td>\n",
       "      <td>['belief', 'death', 'god', 'life', 'magic', 'p...</td>\n",
       "    </tr>\n",
       "    <tr>\n",
       "      <th>1797</th>\n",
       "      <td>“I think you have every right to cherry-pick w...</td>\n",
       "      <td>Elizabeth Gilbert,</td>\n",
       "      <td>['cherry-pick', 'god', 'religion']</td>\n",
       "    </tr>\n",
       "    <tr>\n",
       "      <th>1798</th>\n",
       "      <td>“Someday I will understand Auschwitz. This was...</td>\n",
       "      <td>William Styron,</td>\n",
       "      <td>['auschwitz', 'evil', 'god', 'humanity', 'man'...</td>\n",
       "    </tr>\n",
       "    <tr>\n",
       "      <th>1799</th>\n",
       "      <td>“God, who needs nothing, loves into existence ...</td>\n",
       "      <td>C.S. Lewis,</td>\n",
       "      <td>['charity', 'christ', 'cross', 'god', 'love']</td>\n",
       "    </tr>\n",
       "  </tbody>\n",
       "</table>\n",
       "<p>1800 rows × 3 columns</p>\n",
       "</div>"
      ],
      "text/plain": [
       "                                                  quote  \\\n",
       "0     “I'm selfish, impatient and a little insecure....   \n",
       "1     “You've gotta dance like there's nobody watchi...   \n",
       "2     “You know you're in love when you can't fall a...   \n",
       "3     “A friend is someone who knows all about you a...   \n",
       "4     “Darkness cannot drive out darkness: only ligh...   \n",
       "...                                                 ...   \n",
       "1795  “Suppose neutral angels were able to talk, Yah...   \n",
       "1796  “Once upon a time there was a young prince who...   \n",
       "1797  “I think you have every right to cherry-pick w...   \n",
       "1798  “Someday I will understand Auschwitz. This was...   \n",
       "1799  “God, who needs nothing, loves into existence ...   \n",
       "\n",
       "                       author  \\\n",
       "0              Marilyn Monroe   \n",
       "1           William W. Purkey   \n",
       "2                   Dr. Seuss   \n",
       "3              Elbert Hubbard   \n",
       "4     Martin Luther King Jr.,   \n",
       "...                       ...   \n",
       "1795              Tom Robbins   \n",
       "1796              John Fowles   \n",
       "1797       Elizabeth Gilbert,   \n",
       "1798          William Styron,   \n",
       "1799              C.S. Lewis,   \n",
       "\n",
       "                                                   tags  \n",
       "0     ['attributed-no-source', 'best', 'life', 'love...  \n",
       "1     ['dance', 'heaven', 'hurt', 'inspirational', '...  \n",
       "2     ['attributed-no-source', 'dreams', 'love', 're...  \n",
       "3         ['friend', 'friendship', 'knowledge', 'love']  \n",
       "4     ['darkness', 'drive-out', 'hate', 'inspiration...  \n",
       "...                                                 ...  \n",
       "1795                                   ['god', 'satan']  \n",
       "1796  ['belief', 'death', 'god', 'life', 'magic', 'p...  \n",
       "1797                 ['cherry-pick', 'god', 'religion']  \n",
       "1798  ['auschwitz', 'evil', 'god', 'humanity', 'man'...  \n",
       "1799      ['charity', 'christ', 'cross', 'god', 'love']  \n",
       "\n",
       "[1800 rows x 3 columns]"
      ]
     },
     "execution_count": 3,
     "metadata": {},
     "output_type": "execute_result"
    }
   ],
   "source": [
    "total_quotes"
   ]
  },
  {
   "cell_type": "markdown",
   "metadata": {},
   "source": [
    "First Let's fix tags attribute which is not well defined\n",
    "what we can do is , we can make diffrent columns for every attribute "
   ]
  },
  {
   "cell_type": "code",
   "execution_count": 5,
   "metadata": {},
   "outputs": [
    {
     "data": {
      "text/plain": [
       "quote     object\n",
       "author    object\n",
       "tags      object\n",
       "dtype: object"
      ]
     },
     "execution_count": 5,
     "metadata": {},
     "output_type": "execute_result"
    }
   ],
   "source": [
    "total_quotes.dtypes"
   ]
  },
  {
   "cell_type": "code",
   "execution_count": 32,
   "metadata": {},
   "outputs": [],
   "source": [
    "li = total_quotes['tags'][0]"
   ]
  },
  {
   "cell_type": "code",
   "execution_count": 44,
   "metadata": {},
   "outputs": [
    {
     "name": "stdout",
     "output_type": "stream",
     "text": [
      "attributed-no-source'\n",
      "\n",
      "\n",
      "\n",
      "'best'\n",
      "\n",
      "\n",
      "\n",
      "'life'\n",
      "\n",
      "\n",
      "\n",
      "'love'\n",
      "\n",
      "\n",
      "\n",
      "'mistakes'\n",
      "\n",
      "\n",
      "\n",
      "'out-of-control'\n",
      "\n",
      "\n",
      "\n",
      "'truth'\n",
      "\n",
      "\n",
      "\n",
      "'worst\n",
      "\n",
      "\n",
      "\n"
     ]
    }
   ],
   "source": [
    "for x in li[2:-2].split(\", \"):\n",
    "    print(x)\n",
    "    print(\"\\n\\n\")"
   ]
  },
  {
   "cell_type": "code",
   "execution_count": 41,
   "metadata": {},
   "outputs": [
    {
     "data": {
      "text/plain": [
       "\"['attributed-no-source', 'best', 'life', 'love', 'mistakes', 'out-of-control', 'truth', 'worst']\""
      ]
     },
     "execution_count": 41,
     "metadata": {},
     "output_type": "execute_result"
    }
   ],
   "source": [
    "li"
   ]
  },
  {
   "cell_type": "code",
   "execution_count": null,
   "metadata": {},
   "outputs": [],
   "source": []
  }
 ],
 "metadata": {
  "kernelspec": {
   "display_name": "Python 3",
   "language": "python",
   "name": "python3"
  },
  "language_info": {
   "codemirror_mode": {
    "name": "ipython",
    "version": 3
   },
   "file_extension": ".py",
   "mimetype": "text/x-python",
   "name": "python",
   "nbconvert_exporter": "python",
   "pygments_lexer": "ipython3",
   "version": "3.7.7"
  }
 },
 "nbformat": 4,
 "nbformat_minor": 4
}
